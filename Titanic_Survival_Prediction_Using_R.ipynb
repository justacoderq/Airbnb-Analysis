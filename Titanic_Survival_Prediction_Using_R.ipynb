{
  "cells": [
    {
      "cell_type": "markdown",
      "metadata": {
        "id": "view-in-github",
        "colab_type": "text"
      },
      "source": [
        "<a href=\"https://colab.research.google.com/github/justacoderq/Airbnb-Analysis/blob/main/Titanic_Survival_Prediction_Using_R.ipynb\" target=\"_parent\"><img src=\"https://colab.research.google.com/assets/colab-badge.svg\" alt=\"Open In Colab\"/></a>"
      ]
    },
    {
      "cell_type": "markdown",
      "source": [
        "Titanic Survival Prediction Using R"
      ],
      "metadata": {
        "id": "EdmEw1iSRQF7"
      }
    },
    {
      "source": [
        "DATA_SOURCE_MAPPING = ':https%3A%2F%2Fstorage.googleapis.com%2Fkaggle-competitions-data%2Fkaggle-v2%2F3136%2F26502%2Fbundle%2Farchive.zip%3FX-Goog-Algorithm%3DGOOG4-RSA-SHA256%26X-Goog-Credential%3Dgcp-kaggle-com%2540kaggle-161607.iam.gserviceaccount.com%252F20240930%252Fauto%252Fstorage%252Fgoog4_request%26X-Goog-Date%3D20240930T125545Z%26X-Goog-Expires%3D259200%26X-Goog-SignedHeaders%3Dhost%26X-Goog-Signature%3D599f8ee2a09647f04dc62733cd0a281810e7a79154d409235fe3d08e7e32b8734236981d4548678ae43cd0de571d426510344882e3aaca0bf55936a6bf62a7c47e3e1a6240462b2444025244273a03650f864172e184f68a2b5dbf6eb9cf3eb3fc3f9f890071a1444852e60f19fefb52ee52d7706cbc3f04913dc134bc44df27975f8165b3fad44e0ceb7960b570744050b059deba0e341ffe9144f887f22ea1b4caed673830936edab3413212ffb36803ccdfb6b46bac42b37ea3a9c12066a3310e6b2179152f595ab05049b24669e3a307b9184ee2ecb2fbc8a82dc8422080cb36b280e1f0ce6e7c10f69d5b28ab2e4e1a34d0d8c742c10fa89612c0bb190f'\n",
        "\n",
        "KAGGLE_INPUT_PATH = '/kaggle/input'\n",
        "KAGGLE_WORKING_PATH = '/kaggle/working'\n",
        "\n",
        "system(paste0('sudo umount ', '/kaggle/input'))\n",
        "system(paste0('sudo rmdir ', '/kaggle/input'))\n",
        "system(paste0('sudo mkdir -p -- ', KAGGLE_INPUT_PATH), intern=TRUE)\n",
        "system(paste0('sudo chmod 777 ', KAGGLE_INPUT_PATH), intern=TRUE)\n",
        "system(\n",
        "  paste0('sudo ln -sfn ', KAGGLE_INPUT_PATH,' ',file.path('..', 'input')),\n",
        "  intern=TRUE)\n",
        "\n",
        "system(paste0('sudo mkdir -p -- ', KAGGLE_WORKING_PATH), intern=TRUE)\n",
        "system(paste0('sudo chmod 777 ', KAGGLE_WORKING_PATH), intern=TRUE)\n",
        "system(\n",
        "  paste0('sudo ln -sfn ', KAGGLE_WORKING_PATH, ' ', file.path('..', 'working')),\n",
        "  intern=TRUE)\n",
        "\n",
        "data_source_mappings = strsplit(DATA_SOURCE_MAPPING, ',')[[1]]\n",
        "for (data_source_mapping in data_source_mappings) {\n",
        "    path_and_url = strsplit(data_source_mapping, ':')\n",
        "    directory = path_and_url[[1]][1]\n",
        "    download_url = URLdecode(path_and_url[[1]][2])\n",
        "    filename = sub(\"\\\\?.+\", \"\", download_url)\n",
        "    destination_path = file.path(KAGGLE_INPUT_PATH, directory)\n",
        "    print(paste0('Downloading and uncompressing: ', directory))\n",
        "    if (endsWith(filename, '.zip')){\n",
        "      temp = tempfile(fileext = '.zip')\n",
        "      download.file(download_url, temp)\n",
        "      unzip(temp, overwrite = TRUE, exdir = destination_path)\n",
        "      unlink(temp)\n",
        "    }\n",
        "    else{\n",
        "      temp = tempfile(fileext = '.tar')\n",
        "      download.file(download_url, temp)\n",
        "      untar(temp, exdir = destination_path)\n",
        "      unlink(temp)\n",
        "    }\n",
        "    print(paste0('Downloaded and uncompressed: ', directory))\n",
        "}\n",
        "\n",
        "print(paste0('Data source import complete'))\n"
      ],
      "metadata": {
        "id": "SYkRYJbDAFgB",
        "colab": {
          "base_uri": "https://localhost:8080/",
          "height": 69
        },
        "outputId": "10a1ffdf-462d-4ad4-c643-1e1c769469bc"
      },
      "cell_type": "code",
      "outputs": [
        {
          "output_type": "display_data",
          "data": {
            "text/html": [],
            "text/markdown": "",
            "text/latex": "",
            "text/plain": [
              "character(0)"
            ]
          },
          "metadata": {}
        },
        {
          "output_type": "display_data",
          "data": {
            "text/html": [],
            "text/markdown": "",
            "text/latex": "",
            "text/plain": [
              "character(0)"
            ]
          },
          "metadata": {}
        },
        {
          "output_type": "display_data",
          "data": {
            "text/html": [],
            "text/markdown": "",
            "text/latex": "",
            "text/plain": [
              "character(0)"
            ]
          },
          "metadata": {}
        },
        {
          "output_type": "display_data",
          "data": {
            "text/html": [],
            "text/markdown": "",
            "text/latex": "",
            "text/plain": [
              "character(0)"
            ]
          },
          "metadata": {}
        },
        {
          "output_type": "display_data",
          "data": {
            "text/html": [],
            "text/markdown": "",
            "text/latex": "",
            "text/plain": [
              "character(0)"
            ]
          },
          "metadata": {}
        },
        {
          "output_type": "display_data",
          "data": {
            "text/html": [],
            "text/markdown": "",
            "text/latex": "",
            "text/plain": [
              "character(0)"
            ]
          },
          "metadata": {}
        },
        {
          "output_type": "stream",
          "name": "stdout",
          "text": [
            "[1] \"Downloading and uncompressing: \"\n",
            "[1] \"Downloaded and uncompressed: \"\n",
            "[1] \"Data source import complete\"\n"
          ]
        }
      ],
      "execution_count": null
    },
    {
      "metadata": {
        "_uuid": "9129b46c3f64d3e20491c8790b6a56fa9ad02ed6",
        "id": "Kc0W1jhcAFgT"
      },
      "cell_type": "markdown",
      "source": [
        "# Titanic Survival Prediction based on [Exploring Survival on the Titanic](https://www.kaggle.com/mrisdal/exploring-survival-on-the-titanic) (TBU)\n",
        "\n",
        "# Introduction\n",
        "\n",
        "Using `randomForest` to create a model predicting survival on the Titanic.\n",
        "\n",
        "* Feature engineering\n",
        "* Missing value imputation\n",
        "* Prediction!\n",
        "\n",
        "## Load and check data"
      ]
    },
    {
      "metadata": {
        "trusted": true,
        "_uuid": "37053a771d9887d9d3c4dbe1beae1cfa5f3bd2af",
        "id": "VUPYdABLAFgT",
        "colab": {
          "base_uri": "https://localhost:8080/",
          "height": 106
        },
        "outputId": "4a2cdd7b-5847-431a-ae76-4e9e670e7911"
      },
      "cell_type": "code",
      "source": [
        "# Load packages\n",
        "library('ggplot2') # visualization\n",
        "library('ggthemes') # visualization\n",
        "library('scales') # visualization\n",
        "library('dplyr') # data manipulation\n",
        "library('mice') # imputation\n",
        "library('randomForest') # classification algorithm"
      ],
      "execution_count": null,
      "outputs": [
        {
          "output_type": "error",
          "ename": "ERROR",
          "evalue": "Error in library(\"ggthemes\"): there is no package called ‘ggthemes’\n",
          "traceback": [
            "Error in library(\"ggthemes\"): there is no package called ‘ggthemes’\nTraceback:\n",
            "1. stop(packageNotFoundError(package, lib.loc, sys.call()))"
          ]
        }
      ]
    },
    {
      "metadata": {
        "_uuid": "b59382f9f49cb2f87e07d257005a0356907c5d88",
        "id": "v84JG4K7AFgU"
      },
      "cell_type": "markdown",
      "source": [
        "Now that our packages are loaded, let's read in and take a peek at the data."
      ]
    },
    {
      "metadata": {
        "trusted": true,
        "_uuid": "d9ab13d1b9f96f0b0fda3eb1a347bf054399577f",
        "id": "4UNd0wasAFgU"
      },
      "cell_type": "code",
      "source": [
        "train <- read.csv('../input/train.csv', stringsAsFactors = F)\n",
        "test  <- read.csv('../input/test.csv', stringsAsFactors = F)"
      ],
      "execution_count": null,
      "outputs": []
    },
    {
      "metadata": {
        "trusted": true,
        "_uuid": "7e84c2c4adcec37e48024dd1e4ec0c65086b4cf8",
        "id": "iu4HzeZDAFgV"
      },
      "cell_type": "code",
      "source": [
        "full  <- bind_rows(train, test) # bind training & test data"
      ],
      "execution_count": null,
      "outputs": []
    },
    {
      "metadata": {
        "trusted": true,
        "_uuid": "b90a35a7e51c19dd615c2f29d26c50474c5d497f",
        "id": "VZ6HYHvlAFgV"
      },
      "cell_type": "code",
      "source": [
        "# check data\n",
        "str(full)"
      ],
      "execution_count": null,
      "outputs": []
    },
    {
      "metadata": {
        "_uuid": "88de49efc42dc1af9e1a84486a22ed1d725a0160",
        "id": "rMjH3x8JAFgW"
      },
      "cell_type": "markdown",
      "source": [
        "We've got a sense of our variables, their class type, and the first few observations of each. We know we're working with 1309 observations of 12 variables. To make things a bit more explicit since a couple of the variable names aren't 100% illuminating, here's what we've got to deal with:\n",
        "\n",
        "Variable Name | Description\n",
        "--------------|-------------\n",
        "Survived      | Survived (1) or died (0)\n",
        "Pclass        | Passenger's class\n",
        "Name          | Passenger's name\n",
        "Sex           | Passenger's sex\n",
        "Age           | Passenger's age\n",
        "SibSp         | Number of siblings/spouses aboard\n",
        "Parch         | Number of parents/children aboard\n",
        "Ticket        | Ticket number\n",
        "Fare          | Fare\n",
        "Cabin         | Cabin\n",
        "Embarked      | Port of embarkation\n",
        "\n",
        "# Feature Engineering\n",
        "## What's in a name?\n",
        "\n",
        "The first variable which catches my attention is **passenger name** because we can break it down into additional meaningful variables which can feed predictions or be used in the creation of additional new variables. For instance, **passenger title** is contained within the passenger name variable and we can use **surname** to represent families. Let's do some **feature engineering**!"
      ]
    },
    {
      "metadata": {
        "trusted": true,
        "_uuid": "574e9e0cc46960b6f981c207260bae71d1b2c9e6",
        "id": "ujfcg9ruAFgW"
      },
      "cell_type": "code",
      "source": [
        "# Grab title from passenger names\n",
        "full$Title <- gsub('(.*, )|(\\\\..*)', '', full$Name)"
      ],
      "execution_count": null,
      "outputs": []
    },
    {
      "metadata": {
        "trusted": true,
        "_uuid": "0f64af2251c1d058932ae1489977e5f80beff53e",
        "id": "1OyDgBATAFgX"
      },
      "cell_type": "code",
      "source": [
        "# Show title counts by sex\n",
        "table(full$Sex, full$Title)"
      ],
      "execution_count": null,
      "outputs": []
    },
    {
      "metadata": {
        "trusted": true,
        "_uuid": "e68f7873d81345d72d43cece3bcf37342e89ca98",
        "id": "qo4Lm8nmAFgX"
      },
      "cell_type": "code",
      "source": [
        "# Titles with very low cell counts to be combined to \"rare\" level\n",
        "rare_title <- c('Dona', 'Lady', 'the Countess','Capt', 'Col', 'Don',\n",
        "                'Dr', 'Major', 'Rev', 'Sir', 'Jonkheer')"
      ],
      "execution_count": null,
      "outputs": []
    },
    {
      "metadata": {
        "trusted": true,
        "_uuid": "27a29ddc7846c1be1d044ce9eb3efe268654d0a0",
        "id": "bOdPkKUfAFgY"
      },
      "cell_type": "code",
      "source": [
        "# Also reassign mlle, ms, and mme accordingly\n",
        "full$Title[full$Title == 'Mlle']        <- 'Miss'\n",
        "full$Title[full$Title == 'Ms']          <- 'Miss'\n",
        "full$Title[full$Title == 'Mme']         <- 'Mrs'\n",
        "full$Title[full$Title %in% rare_title]  <- 'Rare Title'"
      ],
      "execution_count": null,
      "outputs": []
    },
    {
      "metadata": {
        "trusted": true,
        "_uuid": "3337975fa24c5f29dc107596dca719851672c038",
        "id": "QohDO2icAFgY"
      },
      "cell_type": "code",
      "source": [
        "# Show title counts by sex again\n",
        "table(full$Sex, full$Title)"
      ],
      "execution_count": null,
      "outputs": []
    },
    {
      "metadata": {
        "trusted": true,
        "_uuid": "05eb362f34d7e06f7090f12938e35ef75374f2c9",
        "id": "L6yGT_BzAFgY"
      },
      "cell_type": "code",
      "source": [
        "# Finally, grab surname from passenger name\n",
        "full$Surname <- sapply(full$Name,\n",
        "                      function(x) strsplit(x, split = '[,.]')[[1]][1])"
      ],
      "execution_count": null,
      "outputs": []
    },
    {
      "metadata": {
        "trusted": true,
        "_uuid": "af41f70bc262f6bd7aade602554460b184ada3d8",
        "id": "OrdzrFmgAFgZ"
      },
      "cell_type": "code",
      "source": [
        "cat(paste('We have <b>', nlevels(factor(full$Surname)), '</b> unique surnames. I would be interested to infer ethnicity based on surname --- another time.'))"
      ],
      "execution_count": null,
      "outputs": []
    },
    {
      "metadata": {
        "_uuid": "a110580034598702201755928be9d85a067ce6cd",
        "id": "G2fFsjeIAFgZ"
      },
      "cell_type": "markdown",
      "source": [
        "## Do families sink or swim together?\n",
        "\n",
        "Now that we've taken care of splitting passenger name into some new variables, we can take it a step further and make some new family variables. First we're going to make a **family size** variable based on number of siblings/spouse(s) (maybe someone has more than one spouse?) and number of children/parents.\n"
      ]
    },
    {
      "metadata": {
        "trusted": true,
        "_uuid": "ce969e4748b95ecd188a4797928a4d149aa1439f",
        "id": "ok7w8SchAFgZ"
      },
      "cell_type": "code",
      "source": [
        "# Create a family size variable including the passenger themselves\n",
        "full$Fsize <- full$SibSp + full$Parch + 1"
      ],
      "execution_count": null,
      "outputs": []
    },
    {
      "metadata": {
        "trusted": true,
        "_uuid": "08e7dcf1815dc219cd0b61b1122d65964bbd3477",
        "id": "0xEcV8pKAFgZ"
      },
      "cell_type": "code",
      "source": [
        "# Create a family variable\n",
        "full$Family <- paste(full$Surname, full$Fsize, sep='_')"
      ],
      "execution_count": null,
      "outputs": []
    },
    {
      "metadata": {
        "trusted": true,
        "_uuid": "b3e95df51d5e0f009bf4332afc7f96768c3fbe99",
        "id": "NRoR_qgXAFgZ"
      },
      "cell_type": "code",
      "source": [
        "# Discretize family size\n",
        "full$FsizeD[full$Fsize == 1] <- 'singleton'\n",
        "full$FsizeD[full$Fsize < 5 & full$Fsize > 1] <- 'small'\n",
        "full$FsizeD[full$Fsize > 4] <- 'large'"
      ],
      "execution_count": null,
      "outputs": []
    },
    {
      "metadata": {
        "_uuid": "d561ab573fcd49396b7ee637da28f13184f0e955",
        "id": "v-WSXVtmAFga"
      },
      "cell_type": "markdown",
      "source": [
        "## Treat a few more variables ...\n",
        "\n",
        "What's left? There's probably some potentially useful information in the **passenger cabin** variable including about their **deck**. Let's take a look."
      ]
    },
    {
      "metadata": {
        "trusted": true,
        "_uuid": "a8dbfb3d08d30f0341c403fb3f7e8c61a3ef64fa",
        "id": "Y57bIUB0AFga"
      },
      "cell_type": "code",
      "source": [
        "# This variable appears to have a lot of missing values\n",
        "full$Cabin[1:28]"
      ],
      "execution_count": null,
      "outputs": []
    },
    {
      "metadata": {
        "trusted": true,
        "_uuid": "cbe17376fbfcaf31ee79a71a3cf8940b4ba5049b",
        "id": "a1zFRkpEAFga"
      },
      "cell_type": "code",
      "source": [
        "# The first character is the deck. For example:\n",
        "strsplit(full$Cabin[2], NULL)[[1]]"
      ],
      "execution_count": null,
      "outputs": []
    },
    {
      "metadata": {
        "trusted": true,
        "_uuid": "f204ab94dc162e668312952bb085128f51965442",
        "id": "VFFnnWYzAFga"
      },
      "cell_type": "code",
      "source": [
        "# Create a Deck variable. Get passenger deck A - F:\n",
        "full$Deck<-factor(sapply(full$Cabin, function(x) strsplit(x, NULL)[[1]][1]))"
      ],
      "execution_count": null,
      "outputs": []
    },
    {
      "metadata": {
        "trusted": true,
        "_uuid": "dde4978db63045a9a72b5b4374f6f833f9bf5654",
        "id": "BUxPmqD2AFga"
      },
      "cell_type": "code",
      "source": [
        "# This variable appears to have a lot of missing values\n",
        "full$Cabin[1:28]"
      ],
      "execution_count": null,
      "outputs": []
    },
    {
      "metadata": {
        "trusted": true,
        "_uuid": "8e0a1a0b1f6ee83e524d471c12457e5b7b3a3f52",
        "id": "HHGLn4NsAFgb"
      },
      "cell_type": "code",
      "source": [
        "# The first character is the deck. For example:\n",
        "strsplit(full$Cabin[2], NULL)[[1]]"
      ],
      "execution_count": null,
      "outputs": []
    },
    {
      "metadata": {
        "trusted": true,
        "_uuid": "cfc51d020161260fbafd1ca8fc6af35ff5048260",
        "id": "iJDDHGd-AFgb"
      },
      "cell_type": "code",
      "source": [
        "# Create a Deck variable. Get passenger deck A - F:\n",
        "full$Deck<-factor(sapply(full$Cabin, function(x) strsplit(x, NULL)[[1]][1]))"
      ],
      "execution_count": null,
      "outputs": []
    },
    {
      "metadata": {
        "_uuid": "cf5d3c9c2de38384bc19619e88d441143a21dbf4",
        "id": "-vbJX2a3AFgb"
      },
      "cell_type": "markdown",
      "source": [
        "# Missingness\n",
        "\n",
        "Now we're ready to start exploring missing data and rectifying it through imputation. There are a number of different ways we could go about doing this. Given the small size of the dataset, we probably should not opt for deleting either entire observations (rows) or variables (columns) containing missing values. We're left with the option of either replacing missing values with a sensible values given the distribution of the data, e.g., the mean, median or mode. Finally, we could go with prediction. We'll use both of the two latter methods and I'll rely on some data visualization to guide our decisions.\n",
        "\n",
        "## Sensible value imputation"
      ]
    },
    {
      "metadata": {
        "trusted": true,
        "_uuid": "c6bff228f93d44192bdd7534839f0cfdf3eeabda",
        "id": "4C1smtzAAFgb"
      },
      "cell_type": "code",
      "source": [
        "# Passengers 62 and 830 are missing Embarkment\n",
        "full[c(62, 830), 'Embarked']"
      ],
      "execution_count": null,
      "outputs": []
    },
    {
      "metadata": {
        "trusted": true,
        "_uuid": "98ebd6c05d68de256f7b3f558a574e5063b6f84b",
        "id": "1lnpVqw0AFgb"
      },
      "cell_type": "code",
      "source": [
        "cat(paste('We will infer their values for **embarkment** based on present data that we can imagine may be relevant: **passenger class** and **fare**. We see that they paid<b> $', full[c(62, 830), 'Fare'][[1]][1], '</b>and<b> $', full[c(62, 830), 'Fare'][[1]][2], '</b>respectively and their classes are<b>', full[c(62, 830), 'Pclass'][[1]][1], '</b>and<b>', full[c(62, 830), 'Pclass'][[1]][2], '</b>. So from where did they embark?'))"
      ],
      "execution_count": null,
      "outputs": []
    },
    {
      "metadata": {
        "trusted": true,
        "_uuid": "68d178feb6d4f575660b0ccfb5e7048771468b01",
        "id": "njYixzkqAFgb"
      },
      "cell_type": "code",
      "source": [
        "# Get rid of our missing passenger IDs\n",
        "embark_fare <- full %>%\n",
        "  filter(PassengerId != 62 & PassengerId != 830)"
      ],
      "execution_count": null,
      "outputs": []
    },
    {
      "metadata": {
        "trusted": true,
        "_uuid": "cc1a07972a6fa5ca50af4e2922a511a52a558b2c",
        "id": "7l-6KTtxAFgc"
      },
      "cell_type": "code",
      "source": [
        "# Since their fare was $80 for 1st class, they most likely embarked from 'C'\n",
        "full$Embarked[c(62, 830)] <- 'C'"
      ],
      "execution_count": null,
      "outputs": []
    },
    {
      "metadata": {
        "trusted": true,
        "_uuid": "eb7fc7b04e181eaba3ef3b27d6eed8d731f7d363",
        "id": "mYKRGpvKAFgc"
      },
      "cell_type": "code",
      "source": [
        "# Show row 1044\n",
        "full[1044, ]"
      ],
      "execution_count": null,
      "outputs": []
    },
    {
      "metadata": {
        "trusted": true,
        "_uuid": "2474171669fb905d3b7788c5ebeeef01b3d81996",
        "id": "28vE3mJ2AFgc"
      },
      "cell_type": "code",
      "source": [
        "# Replace missing fare value with median fare for class/embarkment\n",
        "full$Fare[1044] <- median(full[full$Pclass == '3' & full$Embarked == 'S', ]$Fare, na.rm = TRUE)"
      ],
      "execution_count": null,
      "outputs": []
    },
    {
      "metadata": {
        "_uuid": "caf5c7d8fd86a430e98ba23b238ccca59d295b5a",
        "id": "7eBfdZN2AFgd"
      },
      "cell_type": "markdown",
      "source": [
        "## Predictive imputation\n",
        "\n",
        "Finally, as we noted earlier, there are quite a few missing **Age** values in our data. We are going to get a bit more fancy in imputing missing age values. Why? Because we can. We will create a model predicting ages based on other variables."
      ]
    },
    {
      "metadata": {
        "trusted": true,
        "_uuid": "ec753399e1b5aa917ebdeb40a77a931201f2f8b4",
        "id": "QKOymMYWAFgd"
      },
      "cell_type": "code",
      "source": [
        "sum(is.na(full$Age))"
      ],
      "execution_count": null,
      "outputs": []
    },
    {
      "metadata": {
        "_uuid": "ca1ff9a0313f9294a3fcaa2e3c2a64c410cd5c01",
        "id": "tmk4ksxPAFgd"
      },
      "cell_type": "markdown",
      "source": [
        "We could definitely use `rpart` (recursive partitioning for regression) to predict missing ages, but I'm going to use the `mice` package for this task just for something different. You can read more about multiple imputation using chained equations in r [here](http://www.jstatsoft.org/article/view/v045i03/v45i03.pdf) (PDF). Since we haven't done it yet, I'll first factorize the factor variables and then perform mice imputation."
      ]
    },
    {
      "metadata": {
        "trusted": true,
        "_uuid": "869d236c4e99724d5b3c6f2497f902305227c691",
        "id": "y3FN17siAFgd"
      },
      "cell_type": "code",
      "source": [
        "# Make variables factors into factors\n",
        "factor_vars <- c('PassengerId','Pclass','Sex','Embarked',\n",
        "                 'Title','Surname','Family','FsizeD')\n",
        "\n",
        "full[factor_vars] <- lapply(full[factor_vars], function(x) as.factor(x))"
      ],
      "execution_count": null,
      "outputs": []
    },
    {
      "metadata": {
        "trusted": true,
        "_uuid": "b4ea0021ce9f9207398f1c3210b9e01c0ea59b3b",
        "id": "6wafa9pKAFgd"
      },
      "cell_type": "code",
      "source": [
        "# Set a random seed\n",
        "set.seed(129)"
      ],
      "execution_count": null,
      "outputs": []
    },
    {
      "metadata": {
        "trusted": true,
        "_uuid": "b089443ff7c1fc7f2b9b1380ac7694192c641e30",
        "id": "EB04K8XUAFge"
      },
      "cell_type": "code",
      "source": [
        "# Perform mice imputation, excluding certain less-than-useful variables:\n",
        "mice_mod <- mice(full[, !names(full) %in% c('PassengerId','Name','Ticket','Cabin','Family','Surname','Survived')], method='rf')"
      ],
      "execution_count": null,
      "outputs": []
    },
    {
      "metadata": {
        "trusted": true,
        "_uuid": "3582dcbd3988c36e121655ccf7ee67584dd9a544",
        "id": "dOjPXDiQAFge"
      },
      "cell_type": "code",
      "source": [
        "# Save the complete output\n",
        "mice_output <- complete(mice_mod)"
      ],
      "execution_count": null,
      "outputs": []
    },
    {
      "metadata": {
        "trusted": true,
        "_uuid": "c33a80099bf6f604938b71931c2561d0e5f104af",
        "id": "6Bw7lS1pAFge"
      },
      "cell_type": "code",
      "source": [
        "# Replace Age variable from the mice model.\n",
        "full$Age <- mice_output$Age"
      ],
      "execution_count": null,
      "outputs": []
    },
    {
      "metadata": {
        "trusted": true,
        "_uuid": "ff8c608ddee2cb5f9ca2454935f956d19c214c50",
        "id": "AQNOLOwDAFgf"
      },
      "cell_type": "code",
      "source": [
        "# Show new number of missing Age values\n",
        "sum(is.na(full$Age))"
      ],
      "execution_count": null,
      "outputs": []
    },
    {
      "metadata": {
        "trusted": true,
        "_uuid": "49438844e8467ef5e7b1016c78b3b76f2689da17",
        "id": "2ZtzcpRYAFgf"
      },
      "cell_type": "code",
      "source": [
        "# Create the column child, and indicate whether child or adult\n",
        "full$Child[full$Age < 18] <- 'Child'\n",
        "full$Child[full$Age >= 18] <- 'Adult'"
      ],
      "execution_count": null,
      "outputs": []
    },
    {
      "metadata": {
        "trusted": true,
        "_uuid": "5c25cdf6527cba2146c6817b7db6b239629f28cc",
        "id": "IyQMJw-ZAFgf"
      },
      "cell_type": "code",
      "source": [
        "# Show counts\n",
        "table(full$Child, full$Survived)"
      ],
      "execution_count": null,
      "outputs": []
    },
    {
      "metadata": {
        "trusted": true,
        "_uuid": "ed6a72d7a8e309005ee6cae9d769311054b59f85",
        "id": "SBlMxkL-AFgf"
      },
      "cell_type": "code",
      "source": [
        "# Adding Mother variable\n",
        "full$Mother <- 'Not Mother'\n",
        "full$Mother[full$Sex == 'female' & full$Parch > 0 & full$Age > 18 & full$Title != 'Miss'] <- 'Mother'"
      ],
      "execution_count": null,
      "outputs": []
    },
    {
      "metadata": {
        "trusted": true,
        "_uuid": "c5bb41b7034fb52af19822372e960e13da13c3ae",
        "id": "Q2uhTq6kAFgg"
      },
      "cell_type": "code",
      "source": [
        "# Show counts\n",
        "table(full$Mother, full$Survived)"
      ],
      "execution_count": null,
      "outputs": []
    },
    {
      "metadata": {
        "trusted": true,
        "_uuid": "1866b89aeda6b8def3cec2418c7cede88d7d8428",
        "id": "0ecQjpT7AFgg"
      },
      "cell_type": "code",
      "source": [
        "# Finish by factorizing our two new factor variables\n",
        "full$Child  <- factor(full$Child)\n",
        "full$Mother <- factor(full$Mother)"
      ],
      "execution_count": null,
      "outputs": []
    },
    {
      "metadata": {
        "_uuid": "1444a593caf0c8904ef52479be4fc33818852dbd",
        "id": "xb6TLwcWAFgg"
      },
      "cell_type": "markdown",
      "source": [
        "# Prediction\n",
        "\n",
        "At last we're ready to predict who survives among passengers of the Titanic based on variables that we carefully curated and treated for missing values. For this, we will rely on the `randomForest` classification algorithm; we spent all that time on imputation, after all.\n",
        "\n",
        "## Split into training & test sets\n",
        "\n",
        "Our first step is to split the data back into the original test and training sets.\n"
      ]
    },
    {
      "metadata": {
        "trusted": true,
        "_uuid": "7e645184834ee69dc0bbfe61966634e0779207b5",
        "id": "_ddaj5tzAFgh"
      },
      "cell_type": "code",
      "source": [
        "# Split the data back into a train set and a test set\n",
        "train <- full[1:891,]\n",
        "test <- full[892:1309,]"
      ],
      "execution_count": null,
      "outputs": []
    },
    {
      "metadata": {
        "_uuid": "b7b91cfcac2c860c66686a0596ab88e305fce5e9",
        "id": "AnymSCMgAFgh"
      },
      "cell_type": "markdown",
      "source": [
        "## Building the model\n",
        "\n",
        "We then build our model using `randomForest` on the training set."
      ]
    },
    {
      "metadata": {
        "trusted": true,
        "_uuid": "a2864957bf265c98f0f90810c369c0cfa821084a",
        "id": "dQ1vHmqRAFgh"
      },
      "cell_type": "code",
      "source": [
        "# Set a random seed\n",
        "set.seed(754)"
      ],
      "execution_count": null,
      "outputs": []
    },
    {
      "metadata": {
        "trusted": true,
        "_uuid": "256c5946a01543cb4350e8a0f49617a454a823da",
        "id": "JrD1rCJdAFgh"
      },
      "cell_type": "code",
      "source": [
        "# Build the model (note: not all possible variables are used)\n",
        "rf_model <- randomForest(factor(Survived) ~ Pclass + Sex + Age + SibSp + Parch +\n",
        "                                            Fare + Embarked + Title +\n",
        "                                            FsizeD + Child + Mother,\n",
        "                                            data = train)"
      ],
      "execution_count": null,
      "outputs": []
    },
    {
      "metadata": {
        "trusted": true,
        "_uuid": "9265c88b54e34719b11ca8afb588a88dd57ffff9",
        "id": "GDo9vDQJAFgi"
      },
      "cell_type": "code",
      "source": [
        "# Show model error\n",
        "plot(rf_model, ylim=c(0,0.36))\n",
        "legend('topright', colnames(rf_model$err.rate), col=1:3, fill=1:3)"
      ],
      "execution_count": null,
      "outputs": []
    },
    {
      "metadata": {
        "_uuid": "826b92b5e8a274f732fbcdd3b28787c67f0bdd65",
        "id": "l9wMFvLWAFgi"
      },
      "cell_type": "markdown",
      "source": [
        "The black line shows the overall error rate which falls below 20%.\n",
        "The red and green lines show the error rate for 'died' and 'survived' respectively. We can see that right now we're much more successful predicting death than we are survival. What does that say about me, I wonder?\n",
        "\n",
        "## Variable importance\n",
        "\n",
        "Let's look at relative variable importance by plotting the mean decrease in Gini calculated across all trees."
      ]
    },
    {
      "metadata": {
        "trusted": true,
        "_uuid": "b11b4e770ac3ea20b74e78085d8f3f9cc5088b6f",
        "id": "erysKecLAFgi"
      },
      "cell_type": "code",
      "source": [
        "# Get importance\n",
        "importance    <- importance(rf_model)\n",
        "varImportance <- data.frame(Variables = row.names(importance),\n",
        "                            Importance = round(importance[ ,'MeanDecreaseGini'],2))\n"
      ],
      "execution_count": null,
      "outputs": []
    },
    {
      "metadata": {
        "trusted": true,
        "_uuid": "f3cbbef27cbbf362c7672856783ea33d3afc084b",
        "id": "FsqquVdBAFgj"
      },
      "cell_type": "code",
      "source": [
        "# Create a rank variable based on importance\n",
        "rankImportance <- varImportance %>%\n",
        "  mutate(Rank = paste0('#',dense_rank(desc(Importance))))"
      ],
      "execution_count": null,
      "outputs": []
    },
    {
      "metadata": {
        "trusted": true,
        "_uuid": "31cd9450a82732ba53c9d105268060cc5617b146",
        "id": "kWNFWT-pAFgj"
      },
      "cell_type": "code",
      "source": [
        "# Use ggplot2 to visualize the relative importance of variables\n",
        "ggplot(rankImportance, aes(x = reorder(Variables, Importance),\n",
        "    y = Importance, fill = Importance)) +\n",
        "  geom_bar(stat='identity') +\n",
        "  geom_text(aes(x = Variables, y = 0.5, label = Rank),\n",
        "    hjust=0, vjust=0.55, size = 4, colour = 'red') +\n",
        "  labs(x = 'Variables') +\n",
        "  coord_flip() +\n",
        "  theme_few()"
      ],
      "execution_count": null,
      "outputs": []
    },
    {
      "metadata": {
        "_uuid": "e82784fb75246a8c43f8dae34b3af63e2070af7d",
        "id": "9TKTbHGVAFgj"
      },
      "cell_type": "markdown",
      "source": [
        "Whoa, glad we made our title variable! It has the highest relative importance out of all of our predictor variables. I think I'm most surprised to see that passenger class fell to `r rankImportance[rankImportance$Variable == 'Pclass', ]$Rank`, but maybe that's just bias coming from watching the movie Titanic too many times as a kid.\n",
        "\n",
        "## Prediction!\n",
        "\n",
        "We're ready for the final step --- making our prediction! When we finish here, we could iterate through the preceding steps making tweaks as we go or fit the data using different models or use different combinations of variables to achieve better predictions. But this is a good starting (and stopping) point for me now."
      ]
    },
    {
      "cell_type": "markdown",
      "source": [],
      "metadata": {
        "id": "3bbDcpmRRNDI"
      }
    },
    {
      "metadata": {
        "trusted": true,
        "_uuid": "337b8d95c518ae83504ebb2c4cf1f8ba935b7501",
        "id": "t7wLVi2oAFgk"
      },
      "cell_type": "code",
      "source": [
        "# Predict using the test set\n",
        "prediction <- predict(rf_model, test)"
      ],
      "execution_count": null,
      "outputs": []
    },
    {
      "metadata": {
        "trusted": true,
        "_uuid": "b6efd61f4db8587acaca50567f1a40a9cdcf9d86",
        "id": "6VxOxfMzAFgk"
      },
      "cell_type": "code",
      "source": [
        "# Save the solution to a dataframe with two columns: PassengerId and Survived (prediction)\n",
        "solution <- data.frame(PassengerID = test$PassengerId, Survived = prediction)"
      ],
      "execution_count": null,
      "outputs": []
    },
    {
      "metadata": {
        "trusted": true,
        "_uuid": "e01fc79a4100bf3dae927ebe4b50a03b3ece8304",
        "id": "xqlPI74iAFgk"
      },
      "cell_type": "code",
      "source": [
        "# Write the solution to file\n",
        "write.csv(solution, file = 'rf_mod_Solution.csv', row.names = F)"
      ],
      "execution_count": null,
      "outputs": []
    }
  ],
  "metadata": {
    "kernelspec": {
      "display_name": "R",
      "language": "R",
      "name": "ir"
    },
    "language_info": {
      "mimetype": "text/x-r-source",
      "name": "R",
      "pygments_lexer": "r",
      "version": "3.4.2",
      "file_extension": ".r",
      "codemirror_mode": "r"
    },
    "colab": {
      "provenance": [],
      "include_colab_link": true
    }
  },
  "nbformat": 4,
  "nbformat_minor": 0
}